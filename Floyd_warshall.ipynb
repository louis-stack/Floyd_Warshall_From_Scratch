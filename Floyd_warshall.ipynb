{
 "cells": [
  {
   "attachments": {},
   "cell_type": "markdown",
   "metadata": {
    "slideshow": {
     "slide_type": "slide"
    }
   },
   "source": [
    "The Floyd-Warshall algorithm from scrath with Python"
   ]
  },
  {
   "cell_type": "code",
   "execution_count": 53,
   "metadata": {},
   "outputs": [],
   "source": [
    "from pprint import pprint"
   ]
  },
  {
   "attachments": {},
   "cell_type": "markdown",
   "metadata": {},
   "source": [
    "Print_graph function used to make a graph readable."
   ]
  },
  {
   "cell_type": "code",
   "execution_count": 54,
   "metadata": {},
   "outputs": [],
   "source": [
    "def print_graph(city_data):\n",
    "    # create an empty graph\n",
    "    graph = {}\n",
    "\n",
    "    # populate the graph\n",
    "    for data in city_data:\n",
    "        city1, city2, distance = data\n",
    "        if city1 not in graph:\n",
    "            graph[city1] = {}\n",
    "        if city2 not in graph:\n",
    "            graph[city2] = {}\n",
    "        graph[city1][city2] = int(distance)\n",
    "        graph[city2][city1] = int(distance)\n",
    "    print(\"\\nInitial graph :\\n\")\n",
    "    pprint(graph)"
   ]
  },
  {
   "attachments": {},
   "cell_type": "markdown",
   "metadata": {},
   "source": [
    "Floyd Warshall Algorithm"
   ]
  },
  {
   "cell_type": "code",
   "execution_count": 55,
   "metadata": {},
   "outputs": [],
   "source": [
    "def Floyd_Warshall_shrt_paths(n, roads):\n",
    "    # initialize dp and path arrays\n",
    "    dp = [[float('inf') for j in range(n)] for i in range(n)]\n",
    "    path = [[i for j in range(n)] for i in range(n)]\n",
    "    for i in range(n):\n",
    "        dp[i][i] = 0\n",
    "    for i in range(n):\n",
    "        for j in range(n):\n",
    "            if roads[i][j] != float('inf'):\n",
    "                dp[i][j] = roads[i][j]\n",
    "                path[i][j] = j\n",
    "    for k in range(n):\n",
    "        for i in range(n):\n",
    "            for j in range(n):\n",
    "                if dp[i][j] > dp[i][k] + dp[k][j]:\n",
    "                    dp[i][j] = dp[i][k] + dp[k][j]\n",
    "                    path[i][j] = path[i][k]\n",
    "    return dp, path"
   ]
  },
  {
   "attachments": {},
   "cell_type": "markdown",
   "metadata": {
    "slideshow": {
     "slide_type": "subslide"
    }
   },
   "source": [
    "Now let's break down the function and understand its components:\n",
    "\n",
    "n: The number of vertices in the graph.\n",
    "\n",
    "roads: A 2D array representing the graph's adjacency matrix with weights for each edge.\n",
    "\n",
    "The function initializes two 2D arrays, dp and path, of size n x n. The dp array stores the shortest distances between any two vertices in the graph, while the path array stores the intermediate vertices that form the shortest path between any two vertices.\n",
    "\n",
    "The initialization loop sets the diagonal elements of dp to zero, as the distance between a vertex and itself is always zero.\n",
    "\n",
    "The next loop initializes dp and path with the weights of the edges in the input graph. If there is no edge between two vertices, the weight is set to infinity.\n",
    "\n",
    "The main loop of the algorithm computes the shortest distance and path between all pairs of vertices in the graph. The loop iterates over all vertices k and computes the shortest path between each pair of vertices i and j through vertex k.\n",
    "\n",
    "If the shortest path between vertices i and j can be improved by going through vertex k, then the dp array and path array are updated accordingly.\n",
    "\n",
    "Finally, the function returns the dp and path arrays, which contain the shortest distances and paths between all pairs of vertices in the graph.\n",
    "\n",
    "Overall, the Floyd-Warshall algorithm has a time complexity of O(n^3) and a space complexity of O(n^2), making it efficient for small to medium-sized graphs."
   ]
  },
  {
   "cell_type": "code",
   "execution_count": 56,
   "metadata": {},
   "outputs": [],
   "source": [
    "# read data from city_1.txt file\n",
    "city_data = []\n",
    "with open(\"city_1.txt\", \"r\") as file:\n",
    "    for line in file:\n",
    "        city_data.append(line.strip().split())"
   ]
  },
  {
   "cell_type": "code",
   "execution_count": 57,
   "metadata": {},
   "outputs": [],
   "source": [
    "# create a dictionary to map city names to indices\n",
    "city_map = {chr(i + ord('A')): i for i in range(26)}"
   ]
  },
  {
   "cell_type": "code",
   "execution_count": 58,
   "metadata": {},
   "outputs": [],
   "source": [
    "# create the roads matrix\n",
    "n = 26\n",
    "roads = [[float('inf') for j in range(n)] for i in range(n)]\n",
    "for data in city_data:\n",
    "    i = city_map[data[0]]\n",
    "    j = city_map[data[1]]\n",
    "    distance = int(data[2])\n",
    "    roads[i][j] = distance\n",
    "    roads[j][i] = distance\n"
   ]
  },
  {
   "attachments": {},
   "cell_type": "markdown",
   "metadata": {},
   "source": [
    "This code initializes the roads matrix with the distances between the cities, which is used as input for the Floyd-Warshall algorithm to compute the shortest paths between all pairs of cities.\n",
    "Overall, roads[i][j] corresponds to the distance from the city i to the city j."
   ]
  },
  {
   "cell_type": "code",
   "execution_count": 59,
   "metadata": {},
   "outputs": [],
   "source": [
    "#Destination city\n",
    "city_choosen = 'F'"
   ]
  },
  {
   "cell_type": "code",
   "execution_count": 60,
   "metadata": {},
   "outputs": [
    {
     "name": "stdout",
     "output_type": "stream",
     "text": [
      "\n",
      "Initial graph :\n",
      "\n",
      "{'A': {'B': 2, 'E': 2, 'W': 1},\n",
      " 'B': {'A': 2, 'C': 2, 'D': 5, 'F': 3, 'W': 4},\n",
      " 'C': {'B': 2, 'F': 7, 'V': 9},\n",
      " 'D': {'B': 5, 'E': 1, 'J': 7},\n",
      " 'E': {'A': 2, 'D': 1, 'K': 3},\n",
      " 'F': {'B': 3, 'C': 7, 'L': 2, 'M': 7, 'R': 3, 'Y': 1},\n",
      " 'G': {'H': 2, 'J': 5, 'K': 8},\n",
      " 'H': {'G': 2, 'I': 4, 'P': 1},\n",
      " 'I': {'H': 4, 'K': 5},\n",
      " 'J': {'D': 7, 'G': 5, 'L': 2, 'O': 3},\n",
      " 'K': {'E': 3, 'G': 8, 'I': 5},\n",
      " 'L': {'F': 2, 'J': 2, 'N': 4},\n",
      " 'M': {'F': 7, 'N': 5, 'X': 1, 'Z': 3},\n",
      " 'N': {'L': 4, 'M': 5, 'O': 1, 'Z': 6},\n",
      " 'O': {'J': 3, 'N': 1, 'P': 1},\n",
      " 'P': {'H': 1, 'O': 1},\n",
      " 'R': {'F': 3, 'S': 4},\n",
      " 'S': {'R': 4, 'V': 2},\n",
      " 'V': {'C': 9, 'S': 2},\n",
      " 'W': {'A': 1, 'B': 4},\n",
      " 'X': {'M': 1, 'Y': 5, 'Z': 2},\n",
      " 'Y': {'F': 1, 'X': 5},\n",
      " 'Z': {'M': 3, 'N': 6, 'X': 2}}\n"
     ]
    }
   ],
   "source": [
    "# call the function with the city_map and city_data\n",
    "print_graph(city_data)"
   ]
  },
  {
   "attachments": {},
   "cell_type": "markdown",
   "metadata": {},
   "source": [
    "We can see our initial graph representing each road between cities.\n",
    "For example, it exists a road from city A to city B with a distance of 2."
   ]
  },
  {
   "cell_type": "code",
   "execution_count": 61,
   "metadata": {},
   "outputs": [],
   "source": [
    "# call the Floyd_Warshall_shrt_paths function\n",
    "dp, path = Floyd_Warshall_shrt_paths(n, roads)"
   ]
  },
  {
   "attachments": {},
   "cell_type": "markdown",
   "metadata": {},
   "source": [
    "The variable \"dp\" is a 2-dimensional array that stores the optimal distances between all vertices (cities) of the graph. \n",
    "It is used to store the intermediate results of the Dijkstra algorithm. It is of type list of lists of numbers.\n",
    "\n",
    "The \"path\" variable is also a 2-dimensional array that stores the optimal paths between all vertices (cities) of the graph. \n",
    "It is used to retrace the optimal paths once the algorithm is finished. It is of type list of lists of integers."
   ]
  },
  {
   "cell_type": "code",
   "execution_count": 62,
   "metadata": {},
   "outputs": [
    {
     "name": "stdout",
     "output_type": "stream",
     "text": [
      "\n",
      "Shortest Paths & Optimal values:\n",
      "\n",
      "City A: A->B->F, Value : 5\n",
      "City B: B->F, Value : 3\n",
      "City C: C->B->F, Value : 5\n",
      "City D: D->B->F, Value : 8\n",
      "City E: E->A->B->F, Value : 7\n",
      "City F: F, Value : 0\n",
      "City G: G->J->L->F, Value : 9\n",
      "City H: H->P->O->J->L->F, Value : 9\n",
      "City I: I->H->P->O->J->L->F, Value : 13\n",
      "City J: J->L->F, Value : 4\n",
      "City K: K->E->A->B->F, Value : 10\n",
      "City L: L->F, Value : 2\n",
      "City M: M->F, Value : 7\n",
      "City N: N->L->F, Value : 6\n",
      "City O: O->J->L->F, Value : 7\n",
      "City P: P->O->J->L->F, Value : 8\n",
      "City Q: Not Reachable, Value : inf\n",
      "City R: R->F, Value : 3\n",
      "City S: S->R->F, Value : 7\n",
      "City T: Not Reachable, Value : inf\n",
      "City U: Not Reachable, Value : inf\n",
      "City V: V->S->R->F, Value : 9\n",
      "City W: W->A->B->F, Value : 6\n",
      "City X: X->Y->F, Value : 6\n",
      "City Y: Y->F, Value : 1\n",
      "City Z: Z->X->Y->F, Value : 8\n"
     ]
    }
   ],
   "source": [
    "# print the shortest path from each city to F\n",
    "print(\"\\nShortest Paths & Optimal values:\\n\")\n",
    "for i in range(n):\n",
    "    city = chr(i + ord('A'))\n",
    "    if dp[i][city_map[city_choosen]] == float('inf'):\n",
    "        print(f\"City {city}: Not Reachable, Value : {dp[i][city_map[city_choosen]]}\")\n",
    "    else:\n",
    "        Floyd_Warshall_shrt_paths = city\n",
    "        j = i\n",
    "        while j != city_map[city_choosen]:\n",
    "            j = path[j][city_map[city_choosen]]\n",
    "            Floyd_Warshall_shrt_paths += \"->\"\n",
    "            Floyd_Warshall_shrt_paths += chr(j + ord('A'))\n",
    "            \n",
    "        print(f\"City {city}: {Floyd_Warshall_shrt_paths}, Value : {dp[i][city_map[city_choosen]]}\")"
   ]
  },
  {
   "attachments": {},
   "cell_type": "markdown",
   "metadata": {},
   "source": [
    "In conclusion, we used the Floyd Warshall algorithm to find the shortest path from each road to a final city  (here F).\n",
    "Notice that if there isn't a path from a to city to another city, there will be an infinite distance between those 2 cities.\n",
    "\n",
    "\n",
    "\n",
    "Code by Louis FERRAND"
   ]
  },
  {
   "cell_type": "markdown",
   "metadata": {},
   "source": []
  }
 ],
 "metadata": {
  "kernelspec": {
   "display_name": "Python 3",
   "language": "python",
   "name": "python3"
  },
  "language_info": {
   "codemirror_mode": {
    "name": "ipython",
    "version": 3
   },
   "file_extension": ".py",
   "mimetype": "text/x-python",
   "name": "python",
   "nbconvert_exporter": "python",
   "pygments_lexer": "ipython3",
   "version": "3.10.5"
  },
  "orig_nbformat": 4
 },
 "nbformat": 4,
 "nbformat_minor": 2
}
